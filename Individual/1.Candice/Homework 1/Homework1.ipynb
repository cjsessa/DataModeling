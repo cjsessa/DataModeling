{
 "cells": [
  {
   "cell_type": "markdown",
   "id": "c2de5135",
   "metadata": {},
   "source": [
    "# Homework 1"
   ]
  },
  {
   "cell_type": "markdown",
   "id": "1b3f3e0d",
   "metadata": {},
   "source": [
    "## SVM Modeling"
   ]
  },
  {
   "cell_type": "code",
   "execution_count": 4,
   "id": "8a91843a",
   "metadata": {},
   "outputs": [],
   "source": [
    "import os\n",
    "\n",
    "#Data Manipulation Libraries\n",
    "import pandas as pd\n",
    "import numpy as np\n",
    "\n",
    "#Regression Libraries\n",
    "from sklearn import datasets\n",
    "from sklearn.preprocessing import StandardScaler\n",
    "from sklearn.model_selection import train_test_split\n",
    "from sklearn.neighbors import KNeighborsClassifier\n",
    "\n",
    "from sklearn import metrics\n",
    "from sklearn import svm\n",
    "from scipy import stats\n",
    "\n",
    "#Visualization Libraries\n",
    "from matplotlib import pyplot as plt\n",
    "import seaborn as sns"
   ]
  },
  {
   "cell_type": "code",
   "execution_count": 5,
   "id": "b1091ad0",
   "metadata": {},
   "outputs": [
    {
     "data": {
      "text/plain": [
       "'C:\\\\Users\\\\cxs1rgf\\\\OneDrive - The Home Depot\\\\Desktop\\\\GitHub\\\\DataModeling\\\\Individual\\\\1.Candice\\\\Homework 1'"
      ]
     },
     "execution_count": 5,
     "metadata": {},
     "output_type": "execute_result"
    }
   ],
   "source": [
    "#Checking where the Python Library is:\n",
    "os.getcwd()"
   ]
  },
  {
   "cell_type": "markdown",
   "id": "90f46a70",
   "metadata": {},
   "source": [
    "### Reading in Data"
   ]
  },
  {
   "cell_type": "code",
   "execution_count": 6,
   "id": "6b8cd5ed",
   "metadata": {},
   "outputs": [
    {
     "data": {
      "text/html": [
       "<div>\n",
       "<style scoped>\n",
       "    .dataframe tbody tr th:only-of-type {\n",
       "        vertical-align: middle;\n",
       "    }\n",
       "\n",
       "    .dataframe tbody tr th {\n",
       "        vertical-align: top;\n",
       "    }\n",
       "\n",
       "    .dataframe thead th {\n",
       "        text-align: right;\n",
       "    }\n",
       "</style>\n",
       "<table border=\"1\" class=\"dataframe\">\n",
       "  <thead>\n",
       "    <tr style=\"text-align: right;\">\n",
       "      <th></th>\n",
       "      <th>0</th>\n",
       "      <th>1</th>\n",
       "      <th>2</th>\n",
       "      <th>3</th>\n",
       "      <th>4</th>\n",
       "      <th>5</th>\n",
       "      <th>6</th>\n",
       "      <th>7</th>\n",
       "      <th>8</th>\n",
       "      <th>9</th>\n",
       "      <th>10</th>\n",
       "    </tr>\n",
       "  </thead>\n",
       "  <tbody>\n",
       "    <tr>\n",
       "      <th>0</th>\n",
       "      <td>1</td>\n",
       "      <td>30.83</td>\n",
       "      <td>0.0</td>\n",
       "      <td>1.25</td>\n",
       "      <td>1</td>\n",
       "      <td>0</td>\n",
       "      <td>1</td>\n",
       "      <td>1</td>\n",
       "      <td>202</td>\n",
       "      <td>0</td>\n",
       "      <td>1</td>\n",
       "    </tr>\n",
       "  </tbody>\n",
       "</table>\n",
       "</div>"
      ],
      "text/plain": [
       "   0      1    2     3   4   5   6   7    8   9   10\n",
       "0   1  30.83  0.0  1.25   1   0   1   1  202   0   1"
      ]
     },
     "execution_count": 6,
     "metadata": {},
     "output_type": "execute_result"
    }
   ],
   "source": [
    "df = pd.read_csv('..\\..\\..\\homework assignments\\hw1-Fall_21\\data 2.2\\credit_card_data.txt',sep = '\\t', header = None)\n",
    "df.head(1)"
   ]
  },
  {
   "cell_type": "code",
   "execution_count": 7,
   "id": "ef40c0a3",
   "metadata": {},
   "outputs": [
    {
     "data": {
      "text/plain": [
       "654"
      ]
     },
     "execution_count": 7,
     "metadata": {},
     "output_type": "execute_result"
    }
   ],
   "source": [
    "len(df)"
   ]
  },
  {
   "cell_type": "markdown",
   "id": "adf4d292",
   "metadata": {},
   "source": [
    "### Preprocessing Data\n",
    "First separating X & y variables"
   ]
  },
  {
   "cell_type": "code",
   "execution_count": 8,
   "id": "520e61b0",
   "metadata": {},
   "outputs": [],
   "source": [
    "#turning column names into list\n",
    "cols = df.columns.tolist()\n",
    "\n",
    "#Removing the first column name & assigning it to y_labels\n",
    "y_labels = cols.pop(10)\n",
    "\n",
    "#seting x_labels equal to the remaining columns\n",
    "x_labels = cols\n",
    "\n",
    "y = df[y_labels]\n",
    "X = df[x_labels]"
   ]
  },
  {
   "cell_type": "markdown",
   "id": "918f1cdf",
   "metadata": {},
   "source": [
    "Scaling X data"
   ]
  },
  {
   "cell_type": "code",
   "execution_count": 9,
   "id": "8b1361a3",
   "metadata": {},
   "outputs": [
    {
     "data": {
      "text/plain": [
       "StandardScaler()"
      ]
     },
     "execution_count": 9,
     "metadata": {},
     "output_type": "execute_result"
    }
   ],
   "source": [
    "scaler = StandardScaler()\n",
    "\n",
    "X_scaled = scaler.fit(X)\n",
    "X_scaled"
   ]
  },
  {
   "cell_type": "markdown",
   "id": "222d236b",
   "metadata": {},
   "source": [
    "Splitting data"
   ]
  },
  {
   "cell_type": "code",
   "execution_count": 10,
   "id": "1903a64d",
   "metadata": {},
   "outputs": [],
   "source": [
    "X_train, X_test, y_train, y_test = train_test_split(X, y, test_size=0.3,random_state=109)"
   ]
  },
  {
   "cell_type": "code",
   "execution_count": 11,
   "id": "f3e2cab7",
   "metadata": {},
   "outputs": [],
   "source": [
    "clf = svm.SVC(kernel = 'linear')\n",
    "clf.fit(X_train, y_train)\n",
    "y_pred = clf.predict(X_test)"
   ]
  },
  {
   "cell_type": "code",
   "execution_count": 12,
   "id": "936f5b66",
   "metadata": {},
   "outputs": [
    {
     "name": "stdout",
     "output_type": "stream",
     "text": [
      "Accuracy: 0.8629441624365483\n"
     ]
    }
   ],
   "source": [
    "print(\"Accuracy:\", metrics.accuracy_score(y_test,y_pred))"
   ]
  },
  {
   "cell_type": "markdown",
   "id": "c1307ba3",
   "metadata": {},
   "source": [
    "## KNN Modeling"
   ]
  },
  {
   "cell_type": "markdown",
   "id": "500ac5db",
   "metadata": {},
   "source": [
    "Will need to try different number of neighbors to find optimal fit"
   ]
  },
  {
   "cell_type": "code",
   "execution_count": null,
   "id": "346ad609",
   "metadata": {},
   "outputs": [],
   "source": []
  },
  {
   "cell_type": "code",
   "execution_count": 21,
   "id": "08de332e",
   "metadata": {},
   "outputs": [],
   "source": [
    "score = []\n",
    "for i in range(1,400):\n",
    "    knn = KNeighborsClassifier(n_neighbors = i)\n",
    "    knn.fit(X_train, y_train)\n",
    "    # print(knn.predict(X_test))\n",
    "    score.append(knn.score(X_test,y_test))"
   ]
  },
  {
   "cell_type": "markdown",
   "id": "0925023b",
   "metadata": {},
   "source": [
    "Plotting Accuracies to find optimal number of clusters\n",
    "\n",
    "We find the best accuracies with smaller number of clusters"
   ]
  },
  {
   "cell_type": "code",
   "execution_count": 22,
   "id": "6c9cd061",
   "metadata": {},
   "outputs": [
    {
     "data": {
      "text/plain": [
       "[<matplotlib.lines.Line2D at 0x12313d9d820>]"
      ]
     },
     "execution_count": 22,
     "metadata": {},
     "output_type": "execute_result"
    },
    {
     "data": {
      "image/png": "[encoded data removed]",
      "text/plain": [
       "<Figure size 432x288 with 1 Axes>"
      ]
     },
     "metadata": {
      "needs_background": "light"
     },
     "output_type": "display_data"
    }
   ],
   "source": [
    "fig = plt.figure()\n",
    "ax = plt.axes()\n",
    "\n",
    "ax.plot(score)"
   ]
  },
  {
   "cell_type": "markdown",
   "id": "b77763c8",
   "metadata": {},
   "source": [
    "Redoing with smaller number of clusters, the optimal number is between 2 & 5 groups"
   ]
  },
  {
   "cell_type": "code",
   "execution_count": 23,
   "id": "6cf40c62",
   "metadata": {},
   "outputs": [
    {
     "data": {
      "text/plain": [
       "[<matplotlib.lines.Line2D at 0x12313dfb640>]"
      ]
     },
     "execution_count": 23,
     "metadata": {},
     "output_type": "execute_result"
    },
    {
     "data": {
      "image/png": "[encoded data removed]",
      "text/plain": [
       "<Figure size 432x288 with 1 Axes>"
      ]
     },
     "metadata": {
      "needs_background": "light"
     },
     "output_type": "display_data"
    }
   ],
   "source": [
    "score = []\n",
    "for i in range(1,25):\n",
    "    knn = KNeighborsClassifier(n_neighbors = i)\n",
    "    knn.fit(X_train, y_train)\n",
    "    # print(knn.predict(X_test))\n",
    "    score.append(knn.score(X_test,y_test))\n",
    "    \n",
    "fig = plt.figure()\n",
    "ax = plt.axes()\n",
    "\n",
    "ax.plot(score)"
   ]
  },
  {
   "cell_type": "code",
   "execution_count": null,
   "id": "fd528b1c",
   "metadata": {},
   "outputs": [],
   "source": []
  }
 ],
 "metadata": {
  "kernelspec": {
   "display_name": "Python 3",
   "language": "python",
   "name": "python3"
  },
  "language_info": {
   "codemirror_mode": {
    "name": "ipython",
    "version": 3
   },
   "file_extension": ".py",
   "mimetype": "text/x-python",
   "name": "python",
   "nbconvert_exporter": "python",
   "pygments_lexer": "ipython3",
   "version": "3.8.8"
  }
 },
 "nbformat": 4,
 "nbformat_minor": 5
}
