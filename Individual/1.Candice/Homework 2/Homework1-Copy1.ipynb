{
 "cells": [
  {
   "cell_type": "markdown",
   "id": "c2de5135",
   "metadata": {},
   "source": [
    "# Homework 2"
   ]
  },
  {
   "cell_type": "markdown",
   "id": "1b3f3e0d",
   "metadata": {},
   "source": [
    "## SVM Modeling with Cross-Validation"
   ]
  },
  {
   "cell_type": "code",
   "execution_count": 1,
   "id": "8a91843a",
   "metadata": {},
   "outputs": [],
   "source": [
    "import os\n",
    "\n",
    "#Data Manipulation Libraries\n",
    "import pandas as pd\n",
    "import numpy as np\n",
    "\n",
    "#Regression Libraries\n",
    "from sklearn import datasets\n",
    "from sklearn.preprocessing import StandardScaler\n",
    "from sklearn.model_selection import train_test_split\n",
    "from sklearn.model_selection import cross_val_score\n",
    "from sklearn.neighbors import KNeighborsClassifier\n",
    "\n",
    "from sklearn import metrics\n",
    "from sklearn import svm\n",
    "from scipy import stats\n",
    "\n",
    "#Visualization Libraries\n",
    "from matplotlib import pyplot as plt\n",
    "import seaborn as sns"
   ]
  },
  {
   "cell_type": "code",
   "execution_count": 2,
   "id": "b1091ad0",
   "metadata": {},
   "outputs": [
    {
     "data": {
      "text/plain": [
       "'C:\\\\Users\\\\cxs1rgf\\\\OneDrive - The Home Depot\\\\Desktop\\\\GitHub\\\\DataModeling\\\\Individual\\\\1.Candice\\\\Homework 2'"
      ]
     },
     "execution_count": 2,
     "metadata": {},
     "output_type": "execute_result"
    }
   ],
   "source": [
    "#Checking where the Python Library is:\n",
    "os.getcwd()"
   ]
  },
  {
   "cell_type": "markdown",
   "id": "90f46a70",
   "metadata": {},
   "source": [
    "### Reading in Data"
   ]
  },
  {
   "cell_type": "code",
   "execution_count": 3,
   "id": "6b8cd5ed",
   "metadata": {},
   "outputs": [],
   "source": [
    "df = pd.read_csv('..\\..\\..\\homework assignments\\hw2-Fall_21\\data 3.1\\credit_card_data.txt',sep = '\\t', header = None)\n",
    "df.head(1)"
   ]
  },
  {
   "cell_type": "code",
   "execution_count": 4,
   "id": "ef40c0a3",
   "metadata": {},
   "outputs": [
    {
     "data": {
      "text/plain": [
       "654"
      ]
     },
     "execution_count": 4,
     "metadata": {},
     "output_type": "execute_result"
    }
   ],
   "source": [
    "len(df)"
   ]
  },
  {
   "cell_type": "markdown",
   "id": "adf4d292",
   "metadata": {},
   "source": [
    "### Preprocessing Data\n",
    "First separating X & y variables"
   ]
  },
  {
   "cell_type": "code",
   "execution_count": 5,
   "id": "520e61b0",
   "metadata": {},
   "outputs": [],
   "source": [
    "#turning column names into list\n",
    "cols = df.columns.tolist()\n",
    "\n",
    "#Removing the first column name & assigning it to y_labels\n",
    "y_labels = cols.pop(10)\n",
    "\n",
    "#seting x_labels equal to the remaining columns\n",
    "x_labels = cols\n",
    "\n",
    "y = df[y_labels]\n",
    "X = df[x_labels]"
   ]
  },
  {
   "cell_type": "markdown",
   "id": "918f1cdf",
   "metadata": {},
   "source": [
    "Scaling X data"
   ]
  },
  {
   "cell_type": "code",
   "execution_count": 6,
   "id": "8b1361a3",
   "metadata": {},
   "outputs": [
    {
     "data": {
      "text/plain": [
       "StandardScaler()"
      ]
     },
     "execution_count": 6,
     "metadata": {},
     "output_type": "execute_result"
    }
   ],
   "source": [
    "scaler = StandardScaler()\n",
    "\n",
    "X_scaled = scaler.fit(X)\n",
    "X_scaled"
   ]
  },
  {
   "cell_type": "markdown",
   "id": "222d236b",
   "metadata": {},
   "source": [
    "Using CV method to reduce overfitting"
   ]
  },
  {
   "cell_type": "code",
   "execution_count": 7,
   "id": "f3e2cab7",
   "metadata": {},
   "outputs": [
    {
     "data": {
      "text/plain": [
       "array([0.45454545, 0.81818182, 0.96969697, 0.93939394, 0.96923077,\n",
       "       0.98461538, 0.93846154, 0.56923077, 0.98461538, 0.89230769])"
      ]
     },
     "execution_count": 7,
     "metadata": {},
     "output_type": "execute_result"
    }
   ],
   "source": [
    "clf = svm.SVC(kernel = 'linear')\n",
    "scores = cross_val_score(clf, X, y, cv = 10)\n",
    "scores"
   ]
  },
  {
   "cell_type": "code",
   "execution_count": 10,
   "id": "b710e552",
   "metadata": {},
   "outputs": [
    {
     "data": {
      "text/plain": [
       "[<matplotlib.lines.Line2D at 0x132e61b3d60>]"
      ]
     },
     "execution_count": 10,
     "metadata": {},
     "output_type": "execute_result"
    },
    {
     "data": {
      "image/png": "[encoded data removed]",
      "text/plain": [
       "<Figure size 432x288 with 1 Axes>"
      ]
     },
     "metadata": {
      "needs_background": "light"
     },
     "output_type": "display_data"
    }
   ],
   "source": [
    "fig = plt.figure()\n",
    "ax = plt.axes()\n",
    "\n",
    "ax.plot(scores)"
   ]
  },
  {
   "cell_type": "code",
   "execution_count": 8,
   "id": "936f5b66",
   "metadata": {},
   "outputs": [
    {
     "name": "stdout",
     "output_type": "stream",
     "text": [
      "0.85 accuracy with a standard deviation of 0.18\n"
     ]
    }
   ],
   "source": [
    "print(\"%0.2f accuracy with a standard deviation of %0.2f\" % (scores.mean(), scores.std()))"
   ]
  },
  {
   "cell_type": "code",
   "execution_count": 11,
   "id": "5b61fa03",
   "metadata": {},
   "outputs": [
    {
     "data": {
      "text/plain": [
       "SVC(kernel='linear')"
      ]
     },
     "execution_count": 11,
     "metadata": {},
     "output_type": "execute_result"
    }
   ],
   "source": [
    "clf"
   ]
  },
  {
   "cell_type": "markdown",
   "id": "c1307ba3",
   "metadata": {},
   "source": [
    "## KNN Modeling"
   ]
  },
  {
   "cell_type": "markdown",
   "id": "500ac5db",
   "metadata": {},
   "source": [
    "Will need to try different number of neighbors to find optimal fit"
   ]
  },
  {
   "cell_type": "markdown",
   "id": "0925023b",
   "metadata": {},
   "source": [
    "Plotting Accuracies to find optimal number of clusters\n",
    "\n",
    "We find the best accuracies with smaller number of clusters"
   ]
  },
  {
   "cell_type": "code",
   "execution_count": 9,
   "id": "6c9cd061",
   "metadata": {},
   "outputs": [
    {
     "data": {
      "text/plain": [
       "[<matplotlib.lines.Line2D at 0x132e60bcdc0>]"
      ]
     },
     "execution_count": 9,
     "metadata": {},
     "output_type": "execute_result"
    },
    {
     "data": {
      "image/png": "[encoded data removed]",
      "text/plain": [
       "<Figure size 432x288 with 1 Axes>"
      ]
     },
     "metadata": {
      "needs_background": "light"
     },
     "output_type": "display_data"
    }
   ],
   "source": [
    "fig = plt.figure()\n",
    "ax = plt.axes()\n",
    "\n",
    "ax.plot(scores)"
   ]
  },
  {
   "cell_type": "markdown",
   "id": "b77763c8",
   "metadata": {},
   "source": [
    "Redoing with smaller number of clusters, the optimal number is between 2 & 5 groups"
   ]
  },
  {
   "cell_type": "code",
   "execution_count": 23,
   "id": "6cf40c62",
   "metadata": {},
   "outputs": [
    {
     "data": {
      "text/plain": [
       "[<matplotlib.lines.Line2D at 0x12313dfb640>]"
      ]
     },
     "execution_count": 23,
     "metadata": {},
     "output_type": "execute_result"
    },
    {
     "data": {
      "image/png": "[encoded data removed]",
      "text/plain": [
       "<Figure size 432x288 with 1 Axes>"
      ]
     },
     "metadata": {
      "needs_background": "light"
     },
     "output_type": "display_data"
    }
   ],
   "source": [
    "score = []\n",
    "for i in range(1,25):\n",
    "    knn = KNeighborsClassifier(n_neighbors = i)\n",
    "    knn.fit(X_train, y_train)\n",
    "    # print(knn.predict(X_test))\n",
    "    score.append(knn.score(X_test,y_test))\n",
    "    \n",
    "scores = cross_val_score(clf, X, y, cv = 10)\n",
    "scores\n",
    "    \n",
    "fig = plt.figure()\n",
    "ax = plt.axes()\n",
    "\n",
    "ax.plot(score)"
   ]
  },
  {
   "cell_type": "code",
   "execution_count": null,
   "id": "fd528b1c",
   "metadata": {},
   "outputs": [],
   "source": []
  }
 ],
 "metadata": {
  "kernelspec": {
   "display_name": "Python 3",
   "language": "python",
   "name": "python3"
  },
  "language_info": {
   "codemirror_mode": {
    "name": "ipython",
    "version": 3
   },
   "file_extension": ".py",
   "mimetype": "text/x-python",
   "name": "python",
   "nbconvert_exporter": "python",
   "pygments_lexer": "ipython3",
   "version": "3.8.8"
  }
 },
 "nbformat": 4,
 "nbformat_minor": 5
}
